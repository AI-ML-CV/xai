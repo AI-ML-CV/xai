{
 "cells": [
  {
   "cell_type": "code",
   "execution_count": 1,
   "metadata": {},
   "outputs": [],
   "source": [
    "import sys, os\n",
    "import pandas as pd\n",
    "import numpy as np\n",
    "import matplotlib.pyplot as plt\n",
    "\n",
    "\n",
    "params = {\"ytick.color\" : \"w\",\n",
    "          \"xtick.color\" : \"w\",\n",
    "          \"axes.labelcolor\" : \"w\",\n",
    "          \"axes.edgecolor\" : \"w\"}\n",
    "plt.rcParams.update(params)\n",
    "\n",
    "\n",
    "sys.path.append('../')\n",
    "import xai\n",
    "from xai.xdata import XData\n",
    "from importlib import reload\n",
    "reload(xai)\n",
    "reload(xai.xdata)\n",
    "import xai\n",
    "from xai.xdata import XData"
   ]
  },
  {
   "cell_type": "code",
   "execution_count": 2,
   "metadata": {},
   "outputs": [],
   "source": [
    "csv_path = 'data/adult.data'\n",
    "csv_columns = [\"age\", \"workclass\", \"fnlwgt\", \"education\", \"education-num\", \"marital-status\",\n",
    "                   \"occupation\", \"relationship\", \"ethnicity\", \"gender\", \"capital-gain\", \"capital-loss\",\n",
    "                   \"hours-per-week\", \"native-country\", \"loan\"]"
   ]
  },
  {
   "cell_type": "code",
   "execution_count": 3,
   "metadata": {},
   "outputs": [],
   "source": [
    "df = pd.read_csv(csv_path, names=csv_columns)"
   ]
  },
  {
   "cell_type": "code",
   "execution_count": 286,
   "metadata": {},
   "outputs": [
    {
     "name": "stdout",
     "output_type": "stream",
     "text": [
      "[17.  24.3 31.6 38.9 46.2 53.5 60.8 68.1 75.4 82.7 90. ]\n",
      "[5570 5890 6048 6163 3967 2591 1595  496  174   67]\n"
     ]
    },
    {
     "data": {
      "image/png": "[encoded data removed]",
      "text/plain": [
       "<Figure size 432x288 with 1 Axes>"
      ]
     },
     "metadata": {
      "needs_background": "dark"
     },
     "output_type": "display_data"
    }
   ],
   "source": [
    "cm = plt.cm.get_cmap('RdYlBu_r')\n",
    "Y, X = np.histogram(df[\"age\"].values)\n",
    "\n",
    "print(X)\n",
    "print(Y)\n",
    "\n",
    "y_span = Y.max()\n",
    "C = []\n",
    "for y in Y:\n",
    "    val = 1-y/y_span\n",
    "    if val < 0.5:\n",
    "        val = 0.0\n",
    "    c = cm(val)\n",
    "    C.append(c)\n",
    "    \n",
    "plt.bar(X[:-1],Y,color=C,width=X[1]-X[0])\n",
    "plt.show()"
   ]
  },
  {
   "cell_type": "code",
   "execution_count": 87,
   "metadata": {
    "scrolled": false
   },
   "outputs": [
    {
     "data": {
      "image/png": "[encoded data removed]",
      "text/plain": [
       "<Figure size 432x288 with 1 Axes>"
      ]
     },
     "metadata": {
      "needs_background": "dark"
     },
     "output_type": "display_data"
    },
    {
     "name": "stdout",
     "output_type": "stream",
     "text": [
      "0        24720\n",
      "1        24720\n",
      "2        24720\n",
      "3        24720\n",
      "4        24720\n",
      "5        24720\n",
      "6        24720\n",
      "7         7841\n",
      "8         7841\n",
      "9         7841\n",
      "10        7841\n",
      "11        7841\n",
      "12       24720\n",
      "13       24720\n",
      "14        7841\n",
      "15       24720\n",
      "16       24720\n",
      "17       24720\n",
      "18       24720\n",
      "19        7841\n",
      "20        7841\n",
      "21       24720\n",
      "22       24720\n",
      "23       24720\n",
      "24       24720\n",
      "25        7841\n",
      "26       24720\n",
      "27        7841\n",
      "28       24720\n",
      "29       24720\n",
      "         ...  \n",
      "32531    24720\n",
      "32532     7841\n",
      "32533     7841\n",
      "32534    24720\n",
      "32535    24720\n",
      "32536     7841\n",
      "32537    24720\n",
      "32538     7841\n",
      "32539     7841\n",
      "32540    24720\n",
      "32541    24720\n",
      "32542    24720\n",
      "32543    24720\n",
      "32544    24720\n",
      "32545     7841\n",
      "32546    24720\n",
      "32547    24720\n",
      "32548    24720\n",
      "32549    24720\n",
      "32550    24720\n",
      "32551    24720\n",
      "32552    24720\n",
      "32553    24720\n",
      "32554     7841\n",
      "32555    24720\n",
      "32556    24720\n",
      "32557     7841\n",
      "32558    24720\n",
      "32559    24720\n",
      "32560     7841\n",
      "Name: loan, Length: 32561, dtype: int64\n",
      "[None]\n"
     ]
    }
   ],
   "source": [
    "def plot_imbalance(x, y, raw_ratios, under_thresholds, threshold):\n",
    "    y_max = y.max()\n",
    "    cm = plt.cm.get_cmap('RdYlBu_r')\n",
    "    # 0.5-> 1.0 and below is orange->red. We want to start orange from threshold\n",
    "    colors = [cm(1-r/threshold/2) if t else cm(0) \\\n",
    "               for r,t in zip(raw_ratios, under_thresholds)]\n",
    "    kwargs = {}\n",
    "    if type(x[1]) is not str:\n",
    "        kwargs[\"width\"] = x[1]-x[0]\n",
    "    plt.bar(x, y, color=colors, **kwargs)\n",
    "    lp = plt.axhline(threshold*y_max, color='r')\n",
    "    lp.set_label(f\"Threshold: {threshold*y_max} ({threshold*100}%)\")\n",
    "    plt.xticks(x, x, rotation='vertical')\n",
    "    plt.legend()\n",
    "    plt.show()\n",
    "\n",
    "def class_imbalance(\n",
    "        df, \n",
    "        column_name, \n",
    "        threshold=0.5, \n",
    "        bins=10, \n",
    "        plot=False,\n",
    "        cross_column_names=[]):\n",
    "    kwargs = {}\n",
    "    # Check if column is a string/object or numeric\n",
    "    if df[column_name].dtype == np.object:\n",
    "        x = np.array(df[column_name].value_counts().index)\n",
    "        y = df[column_name].value_counts().values\n",
    "    else:\n",
    "        x = df[column_name].value_counts(bins=bins).index.map(lambda x: x.left)\n",
    "        y = df[column_name].value_counts(bins=bins).values\n",
    "        # Convert to pairs, sort, and split again to two arrays\n",
    "        x, y = zip(*sorted(zip(x, y)))\n",
    "        x = np.array(x, dtype=np.float32)\n",
    "        y = np.array(y, dtype=np.float32)\n",
    "\n",
    "    y_max = y.max()\n",
    "    under_thresholds = []\n",
    "    raw_ratios = []\n",
    "    \n",
    "    for val in y:\n",
    "        under_threshold = False\n",
    "        raw_ratio = val/y_max\n",
    "        if raw_ratio < threshold:\n",
    "            under_threshold = True\n",
    "        \n",
    "        raw_ratios.append(raw_ratio)\n",
    "        under_thresholds.append(under_threshold)\n",
    "        \n",
    "\n",
    "    if plot:\n",
    "        plot_imbalance(x, y, raw_ratios, under_thresholds, threshold)\n",
    "    \n",
    "    return x, y, under_thresholds, raw_ratios\n",
    "\n",
    "\n",
    "def class_imbalance(\n",
    "        df, \n",
    "        column_name, \n",
    "        threshold=0.5, \n",
    "        bins=10, \n",
    "        plot=False,\n",
    "        cross_column_names=[]):\n",
    "    \n",
    "    group_list = []\n",
    "    all_cols = cross_column_names + [column_name]\n",
    "    for c in all_cols:\n",
    "        col = df[c]\n",
    "        if col.dtype == np.object:\n",
    "            grp = c\n",
    "        else:\n",
    "            col_min = col.min()\n",
    "            col_max = col.max()\n",
    "            col_bins = pd.cut(col, list(range(col_min, col_max, \n",
    "                int((col_max-col_min)/bins))))\n",
    "            grp = col_bins\n",
    "            \n",
    "        group_list.append(grp)\n",
    "            \n",
    "    grp = df.groupby(group_list)[column_name]\n",
    "    count_df = grp.transform('count')\n",
    "    count_grp = grp.count()\n",
    "    count_max = count_grp.values.max()\n",
    "    ratios = count_grp/count_max\n",
    "    imbalances = ratios < threshold\n",
    "    \n",
    "    if plot:\n",
    "        cm = plt.cm.get_cmap('RdYlBu_r')\n",
    "        colors = [cm(1-r/threshold/2) if t else cm(0) \\\n",
    "                   for r,t in zip(ratios, imbalances)]\n",
    "        ax = count_grp.plot.bar(color=colors)\n",
    "        lp = plt.axhline(threshold*count_max, color='r')\n",
    "        lp.set_label(f\"Threshold: {threshold*count_max} ({threshold*100}%)\")\n",
    "        plt.legend()\n",
    "        plt.show()\n",
    "        \n",
    "    return None\n",
    "\n",
    "\n",
    "def class_imbalances(\n",
    "        df, \n",
    "        threshold=0.5, \n",
    "        bins=10, \n",
    "        plot=False, \n",
    "        column_names=[],\n",
    "        cross_column_names=[]):\n",
    "    \n",
    "    # TODO: Ensure column_names and cross_column_names are part of df.columns\n",
    "    if not column_names:\n",
    "        column_names = [x for x in list(df.columns) if x not in cross_column_names]\n",
    "    else:\n",
    "        if any([x in column_names for x in cross_column_names]):\n",
    "            raise(\"Error: Columns in 'cross_column_names' are also in 'column_names'\")\n",
    "    \n",
    "    imbalances = []\n",
    "    for col in column_names:\n",
    "        imbalance = class_imbalance(\n",
    "            df, \n",
    "            col, \n",
    "            bins=bins, \n",
    "            threshold=threshold, \n",
    "            plot=plot,\n",
    "            cross_column_names=cross_column_names)\n",
    "        imbalances.append(imbalance)\n",
    "    \n",
    "    return imbalances\n",
    "\n",
    "cis = class_imbalances(\n",
    "    df, \n",
    "    plot=True, \n",
    "    threshold=0.5, \n",
    "    column_names=[\"loan\"],\n",
    "    cross_column_names=[],\n",
    "    bins=2)\n",
    "\n",
    "print(cis)"
   ]
  },
  {
   "cell_type": "code",
   "execution_count": 9,
   "metadata": {},
   "outputs": [
    {
     "data": {
      "text/plain": [
       "['age',\n",
       " 'workclass',\n",
       " 'fnlwgt',\n",
       " 'education',\n",
       " 'education-num',\n",
       " 'marital-status',\n",
       " 'occupation',\n",
       " 'relationship',\n",
       " 'ethnicity',\n",
       " 'gender',\n",
       " 'capital-gain',\n",
       " 'capital-loss',\n",
       " 'hours-per-week',\n",
       " 'native-country',\n",
       " 'loan']"
      ]
     },
     "execution_count": 9,
     "metadata": {},
     "output_type": "execute_result"
    }
   ],
   "source": []
  },
  {
   "cell_type": "code",
   "execution_count": 139,
   "metadata": {},
   "outputs": [
    {
     "name": "stdout",
     "output_type": "stream",
     "text": [
      "[(17, 53], (53, 89], NaN]\n",
      "Categories (2, interval[int64]): [(17, 53] < (53, 89]]\n",
      "[(8, 15], (1, 8], NaN]\n",
      "Categories (2, interval[int64]): [(1, 8] < (8, 15]]\n",
      "[17, 53, 89]\n",
      "[1, 8, 15]\n",
      "AxesSubplot(0.125,0.125;0.775x0.755)\n"
     ]
    },
    {
     "data": {
      "image/png": "[encoded data removed]",
      "text/plain": [
       "<Figure size 1440x1440 with 1 Axes>"
      ]
     },
     "metadata": {
      "needs_background": "dark"
     },
     "output_type": "display_data"
    }
   ],
   "source": [
    "idx = list(df[\"age\"].value_counts(bins=10).index.map(lambda x: x.left))\n",
    "vals = list(df[\"age\"].value_counts(bins=10).values)\n",
    "\n",
    "# df.groupby([\"age\", \"loan\"], bins=10).size().plot.barh()\n",
    "\n",
    "age_bins = pd.cut(df['age'], list(range(df['age'].min(), df['age'].max(), \n",
    "                int((df['age'].max()-df['age'].min())/2))))\n",
    "education_bins = pd.cut(df['education-num'], list(range(df['education-num'].min(), df['education-num'].max(), \n",
    "                int((df['education-num'].max()-df['education-num'].min())/2))))\n",
    "print(age_bins.unique())\n",
    "print(education_bins.unique())\n",
    "print(list(range(df['age'].min(), df['age'].max(), \n",
    "                                        int((df['age'].max()-df['age'].min())/2))))\n",
    "print(list(range(df['education-num'].min(), df['education-num'].max(), \n",
    "                int((df['education-num'].max()-df['education-num'].min())/2))))\n",
    "# print(bins)\n",
    "grp = df.groupby([age_bins, education_bins])[\"age\"].sum().plot.bar(figsize=(20,20))\n",
    "print(grp)\n",
    "\n",
    "# print(idx)\n",
    "# print(vals)\n"
   ]
  },
  {
   "cell_type": "code",
   "execution_count": null,
   "metadata": {},
   "outputs": [],
   "source": [
    "def balance_imbalance():\n",
    "    \"\"\"\n",
    "    Paper that talks about imbalance on CNNs\n",
    "    https://arxiv.org/abs/1710.05381\n",
    "    \"\"\""
   ]
  },
  {
   "cell_type": "code",
   "execution_count": 114,
   "metadata": {},
   "outputs": [
    {
     "data": {
      "text/plain": [
       "[10, 12, 14, 16, 18]"
      ]
     },
     "execution_count": 114,
     "metadata": {},
     "output_type": "execute_result"
    }
   ],
   "source": [
    "list(range(10,20,2))"
   ]
  },
  {
   "cell_type": "code",
   "execution_count": 4,
   "metadata": {},
   "outputs": [
    {
     "data": {
      "image/png": "[encoded data removed]",
      "text/plain": [
       "<Figure size 1440x1440 with 1 Axes>"
      ]
     },
     "metadata": {
      "needs_background": "dark"
     },
     "output_type": "display_data"
    }
   ],
   "source": [
    "age_bins = pd.cut(df['age'], list(range(df['age'].min(), df['age'].max(), \n",
    "                int((df['age'].max()-df['age'].min())/2))))\n",
    "education_bins = pd.cut(df['education-num'], list(range(df['education-num'].min(), df['education-num'].max(), \n",
    "                int((df['education-num'].max()-df['education-num'].min())/2))))\n",
    "grp = df.groupby([age_bins, education_bins])[\"age\"].sum().plot.bar(figsize=(20,20))"
   ]
  },
  {
   "cell_type": "code",
   "execution_count": 24,
   "metadata": {},
   "outputs": [
    {
     "name": "stdout",
     "output_type": "stream",
     "text": [
      "age\n",
      "(17, 53]    945483\n",
      "(53, 89]    300189\n",
      "Name: age, dtype: int64\n",
      "education\n",
      " 10th              933\n",
      " 11th             1175\n",
      " 12th              433\n",
      " 1st-4th           168\n",
      " 5th-6th           333\n",
      " 7th-8th           646\n",
      " 9th               514\n",
      " Assoc-acdm       1067\n",
      " Assoc-voc        1382\n",
      " Bachelors        5355\n",
      " Doctorate         413\n",
      " HS-grad         10501\n",
      " Masters          1723\n",
      " Preschool          51\n",
      " Prof-school       576\n",
      " Some-college     7291\n",
      "Name: education, dtype: int64\n"
     ]
    }
   ],
   "source": [
    "# df.groupby([\"education\"])[\"education\"].sum().plot.bar(figsize=(20,20))\n",
    "print(df.groupby([age_bins])[\"age\"].sum())\n",
    "print(df.groupby([\"education\"])[\"education\"].count())"
   ]
  },
  {
   "cell_type": "code",
   "execution_count": null,
   "metadata": {},
   "outputs": [],
   "source": []
  }
 ],
 "metadata": {
  "kernelspec": {
   "display_name": "Python 3",
   "language": "python",
   "name": "python3"
  },
  "language_info": {
   "codemirror_mode": {
    "name": "ipython",
    "version": 3
   },
   "file_extension": ".py",
   "mimetype": "text/x-python",
   "name": "python",
   "nbconvert_exporter": "python",
   "pygments_lexer": "ipython3",
   "version": "3.6.6"
  }
 },
 "nbformat": 4,
 "nbformat_minor": 2
}
