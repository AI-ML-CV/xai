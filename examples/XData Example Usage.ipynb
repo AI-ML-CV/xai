{
 "cells": [
  {
   "cell_type": "code",
   "execution_count": 160,
   "metadata": {},
   "outputs": [],
   "source": [
    "import sys, os\n",
    "import pandas as pd\n",
    "import numpy as np\n",
    "import matplotlib.pyplot as plt\n",
    "\n",
    "\n",
    "params = {\"ytick.color\" : \"w\",\n",
    "          \"xtick.color\" : \"w\",\n",
    "          \"axes.labelcolor\" : \"w\",\n",
    "          \"axes.edgecolor\" : \"w\"}\n",
    "plt.rcParams.update(params)\n",
    "\n",
    "\n",
    "sys.path.append('../')\n",
    "import xai\n",
    "from xai.xdata import XData\n",
    "from importlib import reload\n",
    "reload(xai)\n",
    "reload(xai.xdata)\n",
    "import xai\n",
    "from xai.xdata import XData"
   ]
  },
  {
   "cell_type": "code",
   "execution_count": 158,
   "metadata": {},
   "outputs": [],
   "source": [
    "csv_path = 'data/adult.data'\n",
    "csv_columns = [\"age\", \"workclass\", \"fnlwgt\", \"education\", \"education-num\", \"marital-status\",\n",
    "                   \"occupation\", \"relationship\", \"ethnicity\", \"gender\", \"capital-gain\", \"capital-loss\",\n",
    "                   \"hours-per-week\", \"native-country\", \"loan\"]"
   ]
  },
  {
   "cell_type": "code",
   "execution_count": 159,
   "metadata": {},
   "outputs": [
    {
     "data": {
      "text/html": [
       "<div>\n",
       "<style scoped>\n",
       "    .dataframe tbody tr th:only-of-type {\n",
       "        vertical-align: middle;\n",
       "    }\n",
       "\n",
       "    .dataframe tbody tr th {\n",
       "        vertical-align: top;\n",
       "    }\n",
       "\n",
       "    .dataframe thead th {\n",
       "        text-align: right;\n",
       "    }\n",
       "</style>\n",
       "<table border=\"1\" class=\"dataframe\">\n",
       "  <thead>\n",
       "    <tr style=\"text-align: right;\">\n",
       "      <th></th>\n",
       "      <th>age</th>\n",
       "      <th>workclass</th>\n",
       "      <th>fnlwgt</th>\n",
       "      <th>education</th>\n",
       "      <th>education-num</th>\n",
       "      <th>marital-status</th>\n",
       "      <th>occupation</th>\n",
       "      <th>relationship</th>\n",
       "      <th>ethnicity</th>\n",
       "      <th>gender</th>\n",
       "      <th>capital-gain</th>\n",
       "      <th>capital-loss</th>\n",
       "      <th>hours-per-week</th>\n",
       "      <th>native-country</th>\n",
       "      <th>loan</th>\n",
       "    </tr>\n",
       "  </thead>\n",
       "  <tbody>\n",
       "    <tr>\n",
       "      <th>0</th>\n",
       "      <td>39</td>\n",
       "      <td>State-gov</td>\n",
       "      <td>77516</td>\n",
       "      <td>Bachelors</td>\n",
       "      <td>13</td>\n",
       "      <td>Never-married</td>\n",
       "      <td>Adm-clerical</td>\n",
       "      <td>Not-in-family</td>\n",
       "      <td>White</td>\n",
       "      <td>Male</td>\n",
       "      <td>2174</td>\n",
       "      <td>0</td>\n",
       "      <td>40</td>\n",
       "      <td>United-States</td>\n",
       "      <td>&lt;=50K</td>\n",
       "    </tr>\n",
       "    <tr>\n",
       "      <th>1</th>\n",
       "      <td>50</td>\n",
       "      <td>Self-emp-not-inc</td>\n",
       "      <td>83311</td>\n",
       "      <td>Bachelors</td>\n",
       "      <td>13</td>\n",
       "      <td>Married-civ-spouse</td>\n",
       "      <td>Exec-managerial</td>\n",
       "      <td>Husband</td>\n",
       "      <td>White</td>\n",
       "      <td>Male</td>\n",
       "      <td>0</td>\n",
       "      <td>0</td>\n",
       "      <td>13</td>\n",
       "      <td>United-States</td>\n",
       "      <td>&lt;=50K</td>\n",
       "    </tr>\n",
       "    <tr>\n",
       "      <th>2</th>\n",
       "      <td>38</td>\n",
       "      <td>Private</td>\n",
       "      <td>215646</td>\n",
       "      <td>HS-grad</td>\n",
       "      <td>9</td>\n",
       "      <td>Divorced</td>\n",
       "      <td>Handlers-cleaners</td>\n",
       "      <td>Not-in-family</td>\n",
       "      <td>White</td>\n",
       "      <td>Male</td>\n",
       "      <td>0</td>\n",
       "      <td>0</td>\n",
       "      <td>40</td>\n",
       "      <td>United-States</td>\n",
       "      <td>&lt;=50K</td>\n",
       "    </tr>\n",
       "    <tr>\n",
       "      <th>3</th>\n",
       "      <td>53</td>\n",
       "      <td>Private</td>\n",
       "      <td>234721</td>\n",
       "      <td>11th</td>\n",
       "      <td>7</td>\n",
       "      <td>Married-civ-spouse</td>\n",
       "      <td>Handlers-cleaners</td>\n",
       "      <td>Husband</td>\n",
       "      <td>Black</td>\n",
       "      <td>Male</td>\n",
       "      <td>0</td>\n",
       "      <td>0</td>\n",
       "      <td>40</td>\n",
       "      <td>United-States</td>\n",
       "      <td>&lt;=50K</td>\n",
       "    </tr>\n",
       "    <tr>\n",
       "      <th>4</th>\n",
       "      <td>28</td>\n",
       "      <td>Private</td>\n",
       "      <td>338409</td>\n",
       "      <td>Bachelors</td>\n",
       "      <td>13</td>\n",
       "      <td>Married-civ-spouse</td>\n",
       "      <td>Prof-specialty</td>\n",
       "      <td>Wife</td>\n",
       "      <td>Black</td>\n",
       "      <td>Female</td>\n",
       "      <td>0</td>\n",
       "      <td>0</td>\n",
       "      <td>40</td>\n",
       "      <td>Cuba</td>\n",
       "      <td>&lt;=50K</td>\n",
       "    </tr>\n",
       "  </tbody>\n",
       "</table>\n",
       "</div>"
      ],
      "text/plain": [
       "   age          workclass  fnlwgt   education  education-num  \\\n",
       "0   39          State-gov   77516   Bachelors             13   \n",
       "1   50   Self-emp-not-inc   83311   Bachelors             13   \n",
       "2   38            Private  215646     HS-grad              9   \n",
       "3   53            Private  234721        11th              7   \n",
       "4   28            Private  338409   Bachelors             13   \n",
       "\n",
       "        marital-status          occupation    relationship ethnicity   gender  \\\n",
       "0        Never-married        Adm-clerical   Not-in-family     White     Male   \n",
       "1   Married-civ-spouse     Exec-managerial         Husband     White     Male   \n",
       "2             Divorced   Handlers-cleaners   Not-in-family     White     Male   \n",
       "3   Married-civ-spouse   Handlers-cleaners         Husband     Black     Male   \n",
       "4   Married-civ-spouse      Prof-specialty            Wife     Black   Female   \n",
       "\n",
       "   capital-gain  capital-loss  hours-per-week  native-country    loan  \n",
       "0          2174             0              40   United-States   <=50K  \n",
       "1             0             0              13   United-States   <=50K  \n",
       "2             0             0              40   United-States   <=50K  \n",
       "3             0             0              40   United-States   <=50K  \n",
       "4             0             0              40            Cuba   <=50K  "
      ]
     },
     "execution_count": 159,
     "metadata": {},
     "output_type": "execute_result"
    }
   ],
   "source": [
    "df = pd.read_csv(csv_path, names=csv_columns)\n",
    "df.head()"
   ]
  },
  {
   "cell_type": "code",
   "execution_count": 55,
   "metadata": {
    "scrolled": false
   },
   "outputs": [],
   "source": [
    "xd = XData(\"loan\", df)\n",
    "xd.set_protected([\"gender\", \"ethnicity\", \"native-country\", \"age\"])"
   ]
  },
  {
   "cell_type": "code",
   "execution_count": 56,
   "metadata": {},
   "outputs": [
    {
     "data": {
      "text/html": [
       "<div>\n",
       "<style scoped>\n",
       "    .dataframe tbody tr th:only-of-type {\n",
       "        vertical-align: middle;\n",
       "    }\n",
       "\n",
       "    .dataframe tbody tr th {\n",
       "        vertical-align: top;\n",
       "    }\n",
       "\n",
       "    .dataframe thead th {\n",
       "        text-align: right;\n",
       "    }\n",
       "</style>\n",
       "<table border=\"1\" class=\"dataframe\">\n",
       "  <thead>\n",
       "    <tr style=\"text-align: right;\">\n",
       "      <th></th>\n",
       "      <th>age</th>\n",
       "      <th>workclass</th>\n",
       "      <th>fnlwgt</th>\n",
       "      <th>education</th>\n",
       "      <th>education-num</th>\n",
       "      <th>marital-status</th>\n",
       "      <th>occupation</th>\n",
       "      <th>relationship</th>\n",
       "      <th>ethnicity</th>\n",
       "      <th>gender</th>\n",
       "      <th>capital-gain</th>\n",
       "      <th>capital-loss</th>\n",
       "      <th>hours-per-week</th>\n",
       "      <th>native-country</th>\n",
       "      <th>loan</th>\n",
       "    </tr>\n",
       "  </thead>\n",
       "  <tbody>\n",
       "    <tr>\n",
       "      <th>0</th>\n",
       "      <td>39</td>\n",
       "      <td>State-gov</td>\n",
       "      <td>77516</td>\n",
       "      <td>Bachelors</td>\n",
       "      <td>13</td>\n",
       "      <td>Never-married</td>\n",
       "      <td>Adm-clerical</td>\n",
       "      <td>Not-in-family</td>\n",
       "      <td>White</td>\n",
       "      <td>Male</td>\n",
       "      <td>2174</td>\n",
       "      <td>0</td>\n",
       "      <td>40</td>\n",
       "      <td>United-States</td>\n",
       "      <td>&lt;=50K</td>\n",
       "    </tr>\n",
       "    <tr>\n",
       "      <th>1</th>\n",
       "      <td>50</td>\n",
       "      <td>Self-emp-not-inc</td>\n",
       "      <td>83311</td>\n",
       "      <td>Bachelors</td>\n",
       "      <td>13</td>\n",
       "      <td>Married-civ-spouse</td>\n",
       "      <td>Exec-managerial</td>\n",
       "      <td>Husband</td>\n",
       "      <td>White</td>\n",
       "      <td>Male</td>\n",
       "      <td>0</td>\n",
       "      <td>0</td>\n",
       "      <td>13</td>\n",
       "      <td>United-States</td>\n",
       "      <td>&lt;=50K</td>\n",
       "    </tr>\n",
       "    <tr>\n",
       "      <th>2</th>\n",
       "      <td>38</td>\n",
       "      <td>Private</td>\n",
       "      <td>215646</td>\n",
       "      <td>HS-grad</td>\n",
       "      <td>9</td>\n",
       "      <td>Divorced</td>\n",
       "      <td>Handlers-cleaners</td>\n",
       "      <td>Not-in-family</td>\n",
       "      <td>White</td>\n",
       "      <td>Male</td>\n",
       "      <td>0</td>\n",
       "      <td>0</td>\n",
       "      <td>40</td>\n",
       "      <td>United-States</td>\n",
       "      <td>&lt;=50K</td>\n",
       "    </tr>\n",
       "    <tr>\n",
       "      <th>3</th>\n",
       "      <td>53</td>\n",
       "      <td>Private</td>\n",
       "      <td>234721</td>\n",
       "      <td>11th</td>\n",
       "      <td>7</td>\n",
       "      <td>Married-civ-spouse</td>\n",
       "      <td>Handlers-cleaners</td>\n",
       "      <td>Husband</td>\n",
       "      <td>Black</td>\n",
       "      <td>Male</td>\n",
       "      <td>0</td>\n",
       "      <td>0</td>\n",
       "      <td>40</td>\n",
       "      <td>United-States</td>\n",
       "      <td>&lt;=50K</td>\n",
       "    </tr>\n",
       "    <tr>\n",
       "      <th>4</th>\n",
       "      <td>28</td>\n",
       "      <td>Private</td>\n",
       "      <td>338409</td>\n",
       "      <td>Bachelors</td>\n",
       "      <td>13</td>\n",
       "      <td>Married-civ-spouse</td>\n",
       "      <td>Prof-specialty</td>\n",
       "      <td>Wife</td>\n",
       "      <td>Black</td>\n",
       "      <td>Female</td>\n",
       "      <td>0</td>\n",
       "      <td>0</td>\n",
       "      <td>40</td>\n",
       "      <td>Cuba</td>\n",
       "      <td>&lt;=50K</td>\n",
       "    </tr>\n",
       "  </tbody>\n",
       "</table>\n",
       "</div>"
      ],
      "text/plain": [
       "   age          workclass  fnlwgt   education  education-num  \\\n",
       "0   39          State-gov   77516   Bachelors             13   \n",
       "1   50   Self-emp-not-inc   83311   Bachelors             13   \n",
       "2   38            Private  215646     HS-grad              9   \n",
       "3   53            Private  234721        11th              7   \n",
       "4   28            Private  338409   Bachelors             13   \n",
       "\n",
       "        marital-status          occupation    relationship ethnicity   gender  \\\n",
       "0        Never-married        Adm-clerical   Not-in-family     White     Male   \n",
       "1   Married-civ-spouse     Exec-managerial         Husband     White     Male   \n",
       "2             Divorced   Handlers-cleaners   Not-in-family     White     Male   \n",
       "3   Married-civ-spouse   Handlers-cleaners         Husband     Black     Male   \n",
       "4   Married-civ-spouse      Prof-specialty            Wife     Black   Female   \n",
       "\n",
       "   capital-gain  capital-loss  hours-per-week  native-country    loan  \n",
       "0          2174             0              40   United-States   <=50K  \n",
       "1             0             0              13   United-States   <=50K  \n",
       "2             0             0              40   United-States   <=50K  \n",
       "3             0             0              40   United-States   <=50K  \n",
       "4             0             0              40            Cuba   <=50K  "
      ]
     },
     "execution_count": 56,
     "metadata": {},
     "output_type": "execute_result"
    }
   ],
   "source": [
    "xd.df.head()"
   ]
  },
  {
   "cell_type": "code",
   "execution_count": 57,
   "metadata": {
    "scrolled": true
   },
   "outputs": [
    {
     "name": "stdout",
     "output_type": "stream",
     "text": [
      "['gender', 'ethnicity', 'native-country', 'age']\n"
     ]
    },
    {
     "data": {
      "image/png": "[encoded data removed]",
      "text/plain": [
       "<Figure size 432x288 with 1 Axes>"
      ]
     },
     "metadata": {
      "needs_background": "dark"
     },
     "output_type": "display_data"
    },
    {
     "data": {
      "image/png": "[encoded data removed]",
      "text/plain": [
       "<Figure size 432x288 with 1 Axes>"
      ]
     },
     "metadata": {
      "needs_background": "dark"
     },
     "output_type": "display_data"
    },
    {
     "data": {
      "image/png": "[encoded data removed]",
      "text/plain": [
       "<Figure size 432x288 with 1 Axes>"
      ]
     },
     "metadata": {
      "needs_background": "dark"
     },
     "output_type": "display_data"
    },
    {
     "data": {
      "image/png": "[encoded data removed]",
      "text/plain": [
       "<Figure size 432x288 with 1 Axes>"
      ]
     },
     "metadata": {
      "needs_background": "dark"
     },
     "output_type": "display_data"
    }
   ],
   "source": [
    "ims = xd.show_imbalances(cross=[])"
   ]
  },
  {
   "cell_type": "code",
   "execution_count": 67,
   "metadata": {},
   "outputs": [
    {
     "data": {
      "image/png": "[encoded data removed]",
      "text/plain": [
       "<Figure size 432x288 with 1 Axes>"
      ]
     },
     "metadata": {
      "needs_background": "dark"
     },
     "output_type": "display_data"
    }
   ],
   "source": [
    "xd.set_threshold(0.8)\n",
    "im = xd.show_imbalance(\"gender\", cross=[])"
   ]
  },
  {
   "cell_type": "code",
   "execution_count": 68,
   "metadata": {},
   "outputs": [
    {
     "data": {
      "image/png": "[encoded data removed]",
      "text/plain": [
       "<Figure size 432x288 with 1 Axes>"
      ]
     },
     "metadata": {
      "needs_background": "dark"
     },
     "output_type": "display_data"
    }
   ],
   "source": [
    "xd.balance(\"gender\", cross=[])\n",
    "im = xd.show_imbalance(\"gender\", cross=[])"
   ]
  },
  {
   "cell_type": "code",
   "execution_count": 73,
   "metadata": {},
   "outputs": [
    {
     "data": {
      "image/png": "[encoded data removed]",
      "text/plain": [
       "<Figure size 432x288 with 1 Axes>"
      ]
     },
     "metadata": {
      "needs_background": "dark"
     },
     "output_type": "display_data"
    }
   ],
   "source": [
    "im = xd.show_imbalance(\"gender\")"
   ]
  },
  {
   "cell_type": "code",
   "execution_count": 74,
   "metadata": {},
   "outputs": [
    {
     "data": {
      "image/png": "[encoded data removed]",
      "text/plain": [
       "<Figure size 432x288 with 1 Axes>"
      ]
     },
     "metadata": {
      "needs_background": "dark"
     },
     "output_type": "display_data"
    }
   ],
   "source": [
    "im = xd.balance(\"gender\")\n",
    "im = xd.show_imbalance(\"gender\")"
   ]
  },
  {
   "cell_type": "code",
   "execution_count": 75,
   "metadata": {},
   "outputs": [],
   "source": [
    "xd.reset()"
   ]
  },
  {
   "cell_type": "markdown",
   "metadata": {},
   "source": [
    "# Validation dataset\n",
    "\n",
    "### How much data?\n",
    "How do we know how much data? Well, it's hard, but normally it depends on:\n",
    "\n",
    "* The complexity of the problem, nominally the unknown underlying function that best relates your input variables to the output variable.\n",
    "* The complexity of the learning algorithm, nominally the algorithm used to inductively learn the unknown underlying mapping function from specific examples.\n",
    "\n",
    "### Statistical heuristics\n",
    "\n",
    "* Factor of the number of classes: There must be x independent examples for each class, where x could be tens, hundreds, or thousands (e.g. 5, 50, 500, 5000).\n",
    "* Factor of the number of input features: There must be x% more examples than there are input features, where x could be tens (e.g. 10).\n",
    "* Factor of the number of model parameters: There must be x independent examples for each parameter in the model, where x could be tens (e.g. 10).\n",
    "\n",
    "### Papers\n",
    "* Small sample size effects in statistical pattern recognition: Recommendations for practitioners: https://sci2s.ugr.es/keel/pdf/specific/articulo/raudys91.pdf\n",
    "* 39 Dimensionality and sample size considerations in pattern recognition practice: https://www.sciencedirect.com/science/article/pii/S0169716182020422"
   ]
  },
  {
   "cell_type": "code",
   "execution_count": 137,
   "metadata": {},
   "outputs": [
    {
     "name": "stdout",
     "output_type": "stream",
     "text": [
      "(31265, 15)\n",
      "(1296, 15)\n"
     ]
    }
   ],
   "source": [
    "# Before we balance again on sub classes, let's create a validation set\n",
    "xd.reset()\n",
    "\n",
    "\n",
    "import random, math\n",
    "\n",
    "def group_by_columns(df, all_cols, bins=0):\n",
    "    group_list = []\n",
    "    for c in all_cols:\n",
    "        col = df[c]\n",
    "        if c in xd._categorical_cols or not bins:\n",
    "            grp = c\n",
    "        else:\n",
    "            col_min = col.min()\n",
    "            col_max = col.max()\n",
    "            # TODO: Use the original bins for display purposes as they may come normalised\n",
    "            col_bins = pd.cut(col, list(np.linspace(col_min, col_max, bins)))\n",
    "            grp = col_bins\n",
    "\n",
    "        group_list.append(grp)\n",
    "\n",
    "    grouped = df.groupby(group_list)\n",
    "    return grouped \n",
    "\n",
    "\n",
    "def split_test_set(\n",
    "        df,\n",
    "        target_name,\n",
    "        key_features=[],\n",
    "        examples_per_class=20,\n",
    "        sample_type=\"half\",\n",
    "        bins=5, \n",
    "        random_state=None):\n",
    "    \"\"\"\n",
    "    sample_type: Can be \"half\", or \"upsample\"\n",
    "    \"\"\"\n",
    "    \n",
    "    if random_state:\n",
    "        random.setstate(random_state)\n",
    "    \n",
    "    tmp_df = df.copy()\n",
    "    \n",
    "    grouped = group_by_columns(tmp_df, key_features, bins=9)\n",
    "    \n",
    "    selected_idxs = []\n",
    "    \n",
    "    def sample(x):\n",
    "        group_size = x.shape[0]\n",
    "        curr_group = None\n",
    "        if sample_type == \"upsample\":\n",
    "            return x.sample(examples_per_class, replace=True)\n",
    "        elif sample_type == \"half\":\n",
    "            if group_size > 2*examples_per_class:\n",
    "                curr_group = x.sample(examples_per_class)\n",
    "            else:\n",
    "                if group_size > 1:\n",
    "                    curr_group = x.sample(math.floor(group_size / 1))\n",
    "                else:\n",
    "                    if random.random() > 0.5:\n",
    "                        curr_group = x\n",
    "                    else:\n",
    "                        curr_group = x.sample(0)\n",
    "        else:\n",
    "            raise(f\"Sampling type provided not found: given {sample_type}, \"\\\n",
    "                 \"expected: 'half' or 'upsample'\")\n",
    "                    \n",
    "        selected_idxs.append(curr_group.index.values)\n",
    "        return curr_group\n",
    "    \n",
    "    tmp_df = grouped.apply(sample)\n",
    "    \n",
    "    selected_idx = np.concatenate(selected_idxs)\n",
    "    \n",
    "    train_idx = np.full(df.shape[0], True, dtype=bool)\n",
    "    train_idx[selected_idx] = False\n",
    "    test_idx = np.full(df.shape[0], False, dtype=bool)\n",
    "    test_idx[selected_idx] = True\n",
    "    \n",
    "    df_train = df.iloc[train_idx] \n",
    "    df_test = df.iloc[test_idx]\n",
    "    \n",
    "    return df_train, df_test\n",
    "    \n",
    "df_train, df_test = split_test_set(\n",
    "    xd.df,\n",
    "    \"loan\",\n",
    "    examples_per_class=20,\n",
    "    key_features=[\"gender\", \"ethnicity\", \"age\"],\n",
    "    bins=9)\n",
    "\n",
    "print(df_train.shape)\n",
    "print(df_test.shape)"
   ]
  },
  {
   "cell_type": "code",
   "execution_count": 81,
   "metadata": {},
   "outputs": [
    {
     "data": {
      "text/html": [
       "<div>\n",
       "<style scoped>\n",
       "    .dataframe tbody tr th:only-of-type {\n",
       "        vertical-align: middle;\n",
       "    }\n",
       "\n",
       "    .dataframe tbody tr th {\n",
       "        vertical-align: top;\n",
       "    }\n",
       "\n",
       "    .dataframe thead th {\n",
       "        text-align: right;\n",
       "    }\n",
       "</style>\n",
       "<table border=\"1\" class=\"dataframe\">\n",
       "  <thead>\n",
       "    <tr style=\"text-align: right;\">\n",
       "      <th></th>\n",
       "      <th>age</th>\n",
       "      <th>workclass</th>\n",
       "      <th>fnlwgt</th>\n",
       "      <th>education</th>\n",
       "      <th>education-num</th>\n",
       "      <th>marital-status</th>\n",
       "      <th>occupation</th>\n",
       "      <th>relationship</th>\n",
       "      <th>ethnicity</th>\n",
       "      <th>gender</th>\n",
       "      <th>capital-gain</th>\n",
       "      <th>capital-loss</th>\n",
       "      <th>hours-per-week</th>\n",
       "      <th>native-country</th>\n",
       "      <th>loan</th>\n",
       "    </tr>\n",
       "  </thead>\n",
       "  <tbody>\n",
       "  </tbody>\n",
       "</table>\n",
       "</div>"
      ],
      "text/plain": [
       "Empty DataFrame\n",
       "Columns: [age, workclass, fnlwgt, education, education-num, marital-status, occupation, relationship, ethnicity, gender, capital-gain, capital-loss, hours-per-week, native-country, loan]\n",
       "Index: []"
      ]
     },
     "execution_count": 81,
     "metadata": {},
     "output_type": "execute_result"
    }
   ],
   "source": []
  },
  {
   "cell_type": "code",
   "execution_count": null,
   "metadata": {},
   "outputs": [],
   "source": [
    "xd.reset()\n",
    "xd.balance(\"gender\")\n",
    "im = xd.show_imbalance(\"gender\")"
   ]
  },
  {
   "cell_type": "code",
   "execution_count": 41,
   "metadata": {},
   "outputs": [
    {
     "data": {
      "image/png": "[encoded data removed]",
      "text/plain": [
       "<Figure size 720x360 with 1 Axes>"
      ]
     },
     "metadata": {
      "needs_background": "dark"
     },
     "output_type": "display_data"
    },
    {
     "data": {
      "text/html": [
       "<div>\n",
       "<style scoped>\n",
       "    .dataframe tbody tr th:only-of-type {\n",
       "        vertical-align: middle;\n",
       "    }\n",
       "\n",
       "    .dataframe tbody tr th {\n",
       "        vertical-align: top;\n",
       "    }\n",
       "\n",
       "    .dataframe thead th {\n",
       "        text-align: right;\n",
       "    }\n",
       "</style>\n",
       "<table border=\"1\" class=\"dataframe\">\n",
       "  <thead>\n",
       "    <tr style=\"text-align: right;\">\n",
       "      <th></th>\n",
       "      <th>age</th>\n",
       "      <th>fnlwgt</th>\n",
       "      <th>education-num</th>\n",
       "      <th>capital-gain</th>\n",
       "      <th>capital-loss</th>\n",
       "      <th>hours-per-week</th>\n",
       "    </tr>\n",
       "  </thead>\n",
       "  <tbody>\n",
       "    <tr>\n",
       "      <th>age</th>\n",
       "      <td>1.000000</td>\n",
       "      <td>-0.076646</td>\n",
       "      <td>0.036527</td>\n",
       "      <td>0.077674</td>\n",
       "      <td>0.057775</td>\n",
       "      <td>0.068756</td>\n",
       "    </tr>\n",
       "    <tr>\n",
       "      <th>fnlwgt</th>\n",
       "      <td>-0.076646</td>\n",
       "      <td>1.000000</td>\n",
       "      <td>-0.043195</td>\n",
       "      <td>0.000432</td>\n",
       "      <td>-0.010252</td>\n",
       "      <td>-0.018768</td>\n",
       "    </tr>\n",
       "    <tr>\n",
       "      <th>education-num</th>\n",
       "      <td>0.036527</td>\n",
       "      <td>-0.043195</td>\n",
       "      <td>1.000000</td>\n",
       "      <td>0.122630</td>\n",
       "      <td>0.079923</td>\n",
       "      <td>0.148123</td>\n",
       "    </tr>\n",
       "    <tr>\n",
       "      <th>capital-gain</th>\n",
       "      <td>0.077674</td>\n",
       "      <td>0.000432</td>\n",
       "      <td>0.122630</td>\n",
       "      <td>1.000000</td>\n",
       "      <td>-0.031615</td>\n",
       "      <td>0.078409</td>\n",
       "    </tr>\n",
       "    <tr>\n",
       "      <th>capital-loss</th>\n",
       "      <td>0.057775</td>\n",
       "      <td>-0.010252</td>\n",
       "      <td>0.079923</td>\n",
       "      <td>-0.031615</td>\n",
       "      <td>1.000000</td>\n",
       "      <td>0.054256</td>\n",
       "    </tr>\n",
       "    <tr>\n",
       "      <th>hours-per-week</th>\n",
       "      <td>0.068756</td>\n",
       "      <td>-0.018768</td>\n",
       "      <td>0.148123</td>\n",
       "      <td>0.078409</td>\n",
       "      <td>0.054256</td>\n",
       "      <td>1.000000</td>\n",
       "    </tr>\n",
       "  </tbody>\n",
       "</table>\n",
       "</div>"
      ],
      "text/plain": [
       "                     age    fnlwgt  education-num  capital-gain  capital-loss  \\\n",
       "age             1.000000 -0.076646       0.036527      0.077674      0.057775   \n",
       "fnlwgt         -0.076646  1.000000      -0.043195      0.000432     -0.010252   \n",
       "education-num   0.036527 -0.043195       1.000000      0.122630      0.079923   \n",
       "capital-gain    0.077674  0.000432       0.122630      1.000000     -0.031615   \n",
       "capital-loss    0.057775 -0.010252       0.079923     -0.031615      1.000000   \n",
       "hours-per-week  0.068756 -0.018768       0.148123      0.078409      0.054256   \n",
       "\n",
       "                hours-per-week  \n",
       "age                   0.068756  \n",
       "fnlwgt               -0.018768  \n",
       "education-num         0.148123  \n",
       "capital-gain          0.078409  \n",
       "capital-loss          0.054256  \n",
       "hours-per-week        1.000000  "
      ]
     },
     "execution_count": 41,
     "metadata": {},
     "output_type": "execute_result"
    }
   ],
   "source": [
    "xd.correlations()"
   ]
  },
  {
   "cell_type": "code",
   "execution_count": 42,
   "metadata": {},
   "outputs": [
    {
     "name": "stderr",
     "output_type": "stream",
     "text": [
      "/home/alejandro/anaconda3/lib/python3.6/site-packages/scipy/stats/stats.py:245: RuntimeWarning: The input array could not be properly checked for nan values. nan values will be ignored.\n",
      "  \"values. nan values will be ignored.\", RuntimeWarning)\n"
     ]
    },
    {
     "data": {
      "image/png": "[encoded data removed]",
      "text/plain": [
       "<Figure size 720x360 with 1 Axes>"
      ]
     },
     "metadata": {
      "needs_background": "dark"
     },
     "output_type": "display_data"
    },
    {
     "data": {
      "text/plain": [
       "array([[ 1.        ,  0.05821793, -0.07814098, -0.02753357,  0.06634497,\n",
       "        -0.37484987, -0.00480952, -0.32151467,  0.02818017,  0.10037342,\n",
       "         0.12494799,  0.05848388,  0.14290681,  0.00750752,  0.27296206],\n",
       "       [ 0.05821793,  1.        , -0.02887002,  0.00970422,  0.04002668,\n",
       "        -0.07084739,  0.20712561, -0.11564865,  0.06361613,  0.11274998,\n",
       "         0.03068833,  0.01345492,  0.13366052, -0.00690803,  0.06434877],\n",
       "       [-0.07814098, -0.02887002,  1.        , -0.02139763, -0.03570649,\n",
       "         0.03510239,  0.00165624,  0.01373364, -0.03604903,  0.02507814,\n",
       "        -0.00603892, -0.00691384, -0.02162149, -0.07933568, -0.01073752],\n",
       "       [-0.02753357,  0.00970422, -0.02139763,  1.        ,  0.20983273,\n",
       "        -0.01332109, -0.03429336,  0.01642285,  0.01056352, -0.03450412,\n",
       "         0.00535775,  0.00706282,  0.01060243,  0.08362025,  0.0296483 ],\n",
       "       [ 0.06634497,  0.04002668, -0.03570649,  0.20983273,  1.        ,\n",
       "        -0.06440846,  0.11508002, -0.0961136 ,  0.04588328,  0.00628315,\n",
       "         0.11913972,  0.0747487 ,  0.16721512,  0.05010244,  0.32968229],\n",
       "       [-0.37484987, -0.07084739,  0.03510239, -0.01332109, -0.06440846,\n",
       "         1.        , -0.01187525,  0.31430555, -0.0868448 , -0.1542957 ,\n",
       "        -0.07642508, -0.04317161, -0.21222622, -0.03159789, -0.23640271],\n",
       "       [-0.00480952,  0.20712561,  0.00165624, -0.03429336,  0.11508002,\n",
       "        -0.01187525,  1.        , -0.07532086,  0.00850054,  0.07878917,\n",
       "         0.02051439,  0.01994441,  0.08987452, -0.00711449,  0.08214877],\n",
       "       [-0.32151467, -0.11564865,  0.01373364,  0.01642285, -0.0961136 ,\n",
       "         0.31430555, -0.07532086,  1.        , -0.13449877, -0.61757016,\n",
       "        -0.10072056, -0.06760758, -0.30143589, -0.01320067, -0.32991294],\n",
       "       [ 0.02818017,  0.06361613, -0.03604903,  0.01056352,  0.04588328,\n",
       "        -0.0868448 ,  0.00850054, -0.13449877,  1.        ,  0.09995216,\n",
       "         0.02827605,  0.01963575,  0.07566175,  0.17520338,  0.0819762 ],\n",
       "       [ 0.10037342,  0.11274998,  0.02507814, -0.03450412,  0.00628315,\n",
       "        -0.1542957 ,  0.07878917, -0.61757016,  0.09995216,  1.        ,\n",
       "         0.066646  ,  0.04215426,  0.26494059, -0.00687009,  0.21598015],\n",
       "       [ 0.12494799,  0.03068833, -0.00603892,  0.00535775,  0.11913972,\n",
       "        -0.07642508,  0.02051439, -0.10072056,  0.02827605,  0.066646  ,\n",
       "         1.        , -0.06656945,  0.09332205,  0.01490347,  0.27815938],\n",
       "       [ 0.05848388,  0.01345492, -0.00691384,  0.00706282,  0.0747487 ,\n",
       "        -0.04317161,  0.01994441, -0.06760758,  0.01963575,  0.04215426,\n",
       "        -0.06656945,  1.        ,  0.05985243,  0.00709751,  0.14104226],\n",
       "       [ 0.14290681,  0.13366052, -0.02162149,  0.01060243,  0.16721512,\n",
       "        -0.21222622,  0.08987452, -0.30143589,  0.07566175,  0.26494059,\n",
       "         0.09332205,  0.05985243,  1.        ,  0.01058482,  0.26907514],\n",
       "       [ 0.00750752, -0.00690803, -0.07933568,  0.08362025,  0.05010244,\n",
       "        -0.03159789, -0.00711449, -0.01320067,  0.17520338, -0.00687009,\n",
       "         0.01490347,  0.00709751,  0.01058482,  1.        ,  0.0287465 ],\n",
       "       [ 0.27296206,  0.06434877, -0.01073752,  0.0296483 ,  0.32968229,\n",
       "        -0.23640271,  0.08214877, -0.32991294,  0.0819762 ,  0.21598015,\n",
       "         0.27815938,  0.14104226,  0.26907514,  0.0287465 ,  1.        ]])"
      ]
     },
     "execution_count": 42,
     "metadata": {},
     "output_type": "execute_result"
    }
   ],
   "source": [
    "xd.correlations(include_categorical=True)"
   ]
  },
  {
   "cell_type": "code",
   "execution_count": null,
   "metadata": {},
   "outputs": [],
   "source": [
    "corr = xd.correlations(include_categorical=True, plot_type=\"matrix\")"
   ]
  },
  {
   "cell_type": "code",
   "execution_count": null,
   "metadata": {
    "scrolled": true
   },
   "outputs": [],
   "source": [
    "xd.convert_categories()"
   ]
  },
  {
   "cell_type": "code",
   "execution_count": null,
   "metadata": {
    "scrolled": true
   },
   "outputs": [],
   "source": [
    "xd.normalize_numeric()"
   ]
  },
  {
   "cell_type": "code",
   "execution_count": 153,
   "metadata": {},
   "outputs": [
    {
     "data": {
      "text/plain": [
       "array([0, 2, 3, 4])"
      ]
     },
     "execution_count": 153,
     "metadata": {},
     "output_type": "execute_result"
    }
   ],
   "source": []
  },
  {
   "cell_type": "markdown",
   "metadata": {},
   "source": [
    "# Experiments \n",
    "Below are todos and experiments"
   ]
  },
  {
   "cell_type": "code",
   "execution_count": null,
   "metadata": {},
   "outputs": [],
   "source": [
    "import seaborn as sns\n",
    "df"
   ]
  },
  {
   "cell_type": "code",
   "execution_count": null,
   "metadata": {},
   "outputs": [],
   "source": [
    "a4_dims = (10,5)\n",
    "fig, ax = plt.subplots(figsize=a4_dims)\n",
    "sn.violinplot(x='hours-per-week', y='gender', data=df, ax=ax)"
   ]
  },
  {
   "cell_type": "code",
   "execution_count": null,
   "metadata": {
    "scrolled": true
   },
   "outputs": [],
   "source": [
    "# Categorical plots\n",
    "# TODO: https://seaborn.pydata.org/tutorial/categorical.html#categorical-tutorial\n",
    "\n",
    "# Numeric plots:\n",
    "# TODO: https://seaborn.pydata.org/tutorial/axis_grids.html#grid-tutorial\n",
    "\n",
    "# Statistical relationships with data\n",
    "# TODO: https://seaborn.pydata.org/tutorial/relational.html#relational-tutorial\n",
    "g = sns.PairGrid(df, hue=\"loan\")\n",
    "g.map(plt.scatter);"
   ]
  },
  {
   "cell_type": "code",
   "execution_count": null,
   "metadata": {},
   "outputs": [],
   "source": [
    "def kdeplot(feature):\n",
    "    plt.figure(figsize=(9, 4))\n",
    "    plt.title(\"KDE for {}\".format(feature))\n",
    "    ax0 = sns.kdeplot(df[df['gender'] == ' Male'][feature].dropna(), color= 'navy', label= 'Loan: No')\n",
    "    ax1 = sns.kdeplot(df[df['gender'] == ' Female'][feature].dropna(), color= 'orange', label= 'Loan: Yes')\n",
    "kdeplot('hours-per-week')\n",
    "# kdeplot('education-num')"
   ]
  },
  {
   "cell_type": "code",
   "execution_count": null,
   "metadata": {},
   "outputs": [],
   "source": [
    "xd.df[\"gender\"].unique()"
   ]
  },
  {
   "cell_type": "markdown",
   "metadata": {},
   "source": [
    "# XMODEL"
   ]
  },
  {
   "cell_type": "code",
   "execution_count": 138,
   "metadata": {},
   "outputs": [],
   "source": [
    "import sklearn\n",
    "from sklearn.model_selection import train_test_split\n",
    "from sklearn.metrics import classification_report, mean_squared_error, roc_curve, auc\n",
    "\n",
    "from keras.layers import Input, Dense, Flatten, \\\n",
    "    Concatenate, concatenate, Dropout, Lambda\n",
    "from keras.models import Model, Sequential\n",
    "from keras.layers.embeddings import Embedding\n",
    "\n",
    "def build_model(X):\n",
    "    input_els = []\n",
    "    encoded_els = []\n",
    "    dtypes = list(zip(X.dtypes.index, map(str, X.dtypes)))\n",
    "    for k,dtype in dtypes:\n",
    "        input_els.append(Input(shape=(1,)))\n",
    "        if dtype == \"int8\":\n",
    "            e = Flatten()(Embedding(X[k].max()+1, 1)(input_els[-1]))\n",
    "        else:\n",
    "            e = input_els[-1]\n",
    "        encoded_els.append(e)\n",
    "    encoded_els = concatenate(encoded_els)\n",
    "\n",
    "    layer1 = Dropout(0.5)(Dense(100, activation=\"relu\")(encoded_els))\n",
    "    out = Dense(1, activation='sigmoid')(layer1)\n",
    "\n",
    "    # train model\n",
    "    model = Model(inputs=input_els, outputs=[out])\n",
    "    model.compile(optimizer=\"adam\", loss='binary_crossentropy', metrics=['accuracy'])\n",
    "    return model\n",
    "\n",
    "\n",
    "def f_in(X, m=None):\n",
    "    \"\"\"Preprocess input so it can be provided to a function\"\"\"\n",
    "    if m:\n",
    "        return [X.iloc[:m,i] for i in range(X.shape[1])]\n",
    "    else:\n",
    "        return [X.iloc[:,i] for i in range(X.shape[1])]\n",
    "\n",
    "def f_out(probs):\n",
    "    \"\"\"Convert probabilities into classes\"\"\"\n",
    "    return list((probs >= 0.5).astype(int).T[0])\n",
    "\n",
    "\n",
    "def confusion_matrix(y_target, y_predicted, scale=True, plot=True):\n",
    "    confusion = sklearn.metrics.confusion_matrix(y_target, y_predicted)\n",
    "    if scale:\n",
    "        confusion = confusion.astype(\"float\") / confusion.sum(axis=1)[:, np.newaxis]\n",
    "    confusion_df = pd.DataFrame(confusion, index=[\"Denied\", \"Approved\"], columns=[\"Denied\", \"Approved\"])\n",
    "    if plot:\n",
    "        cm = sns.cubehelix_palette(8, start=2, rot=0, dark=0, light=1, reverse=True, as_cmap=True)\n",
    "        sn.heatmap(confusion_df, annot=True, fmt='.2f', center=1, cmap=cm)\n",
    "    return confusion_df\n",
    "\n",
    "\n",
    "def plot_roc(y, probs, plot=True):\n",
    "    \n",
    "    fpr, tpr, _ = roc_curve(y, probs)\n",
    "\n",
    "    roc_auc = auc(fpr, tpr)\n",
    "\n",
    "    if plot:\n",
    "        plt.figure()\n",
    "        plt.plot(fpr, tpr, label='ROC curve (area = %0.2f)' % roc_auc)\n",
    "        plt.plot([0, 1], [0, 1], 'k--')\n",
    "        plt.xlim([0.0, 1.0])\n",
    "        plt.ylim([0.0, 1.05])\n",
    "        plt.xlabel('False Positive Rate')\n",
    "        plt.ylabel('True Positive Rate')\n",
    "        plt.legend(loc=\"lower right\")\n",
    "        plt.rcParams.update(params)\n",
    "        plt.show()\n",
    "    \n",
    "    return roc_auc"
   ]
  },
  {
   "cell_type": "code",
   "execution_count": 144,
   "metadata": {
    "scrolled": true
   },
   "outputs": [
    {
     "name": "stdout",
     "output_type": "stream",
     "text": [
      "Train on 31262 samples, validate on 1299 samples\n",
      "Epoch 1/50\n",
      "31262/31262 [==============================] - 1s 23us/step - loss: 0.5402 - acc: 0.7539 - val_loss: 0.3857 - val_acc: 0.8483\n",
      "Epoch 2/50\n",
      "31262/31262 [==============================] - 0s 4us/step - loss: 0.4111 - acc: 0.8140 - val_loss: 0.3271 - val_acc: 0.8607\n",
      "Epoch 3/50\n",
      "31262/31262 [==============================] - 0s 5us/step - loss: 0.3592 - acc: 0.8328 - val_loss: 0.2848 - val_acc: 0.8776\n",
      "Epoch 4/50\n",
      "31262/31262 [==============================] - 0s 5us/step - loss: 0.3364 - acc: 0.8423 - val_loss: 0.2693 - val_acc: 0.8884\n",
      "Epoch 5/50\n",
      "31262/31262 [==============================] - 0s 4us/step - loss: 0.3298 - acc: 0.8469 - val_loss: 0.2661 - val_acc: 0.8876\n",
      "Epoch 6/50\n",
      "31262/31262 [==============================] - 0s 4us/step - loss: 0.3263 - acc: 0.8488 - val_loss: 0.2631 - val_acc: 0.8868\n",
      "Epoch 7/50\n",
      "31262/31262 [==============================] - 0s 4us/step - loss: 0.3233 - acc: 0.8511 - val_loss: 0.2633 - val_acc: 0.8838\n",
      "Epoch 8/50\n",
      "31262/31262 [==============================] - 0s 4us/step - loss: 0.3221 - acc: 0.8509 - val_loss: 0.2600 - val_acc: 0.8884\n",
      "Epoch 9/50\n",
      "31262/31262 [==============================] - 0s 4us/step - loss: 0.3194 - acc: 0.8542 - val_loss: 0.2595 - val_acc: 0.8884\n",
      "Epoch 10/50\n",
      "31262/31262 [==============================] - 0s 4us/step - loss: 0.3194 - acc: 0.8515 - val_loss: 0.2594 - val_acc: 0.8915\n",
      "Epoch 11/50\n",
      "31262/31262 [==============================] - 0s 4us/step - loss: 0.3198 - acc: 0.8520 - val_loss: 0.2587 - val_acc: 0.8899\n",
      "Epoch 12/50\n",
      "31262/31262 [==============================] - 0s 4us/step - loss: 0.3159 - acc: 0.8548 - val_loss: 0.2575 - val_acc: 0.8922\n",
      "Epoch 13/50\n",
      "31262/31262 [==============================] - 0s 4us/step - loss: 0.3164 - acc: 0.8520 - val_loss: 0.2576 - val_acc: 0.8899\n",
      "Epoch 14/50\n",
      "31262/31262 [==============================] - 0s 4us/step - loss: 0.3163 - acc: 0.8544 - val_loss: 0.2571 - val_acc: 0.8907\n",
      "Epoch 15/50\n",
      "31262/31262 [==============================] - 0s 4us/step - loss: 0.3150 - acc: 0.8553 - val_loss: 0.2563 - val_acc: 0.8907\n",
      "Epoch 16/50\n",
      "31262/31262 [==============================] - 0s 4us/step - loss: 0.3150 - acc: 0.8540 - val_loss: 0.2564 - val_acc: 0.8922\n",
      "Epoch 17/50\n",
      "31262/31262 [==============================] - 0s 4us/step - loss: 0.3132 - acc: 0.8562 - val_loss: 0.2571 - val_acc: 0.8907\n",
      "Epoch 18/50\n",
      "31262/31262 [==============================] - 0s 4us/step - loss: 0.3137 - acc: 0.8545 - val_loss: 0.2570 - val_acc: 0.8884\n",
      "Epoch 19/50\n",
      "31262/31262 [==============================] - 0s 4us/step - loss: 0.3128 - acc: 0.8563 - val_loss: 0.2551 - val_acc: 0.8899\n",
      "Epoch 20/50\n",
      "31262/31262 [==============================] - 0s 4us/step - loss: 0.3138 - acc: 0.8544 - val_loss: 0.2555 - val_acc: 0.8899\n",
      "Epoch 21/50\n",
      "31262/31262 [==============================] - 0s 4us/step - loss: 0.3135 - acc: 0.8550 - val_loss: 0.2538 - val_acc: 0.8891\n",
      "Epoch 22/50\n",
      "31262/31262 [==============================] - 0s 4us/step - loss: 0.3134 - acc: 0.8559 - val_loss: 0.2561 - val_acc: 0.8907\n",
      "Epoch 23/50\n",
      "31262/31262 [==============================] - 0s 4us/step - loss: 0.3132 - acc: 0.8555 - val_loss: 0.2554 - val_acc: 0.8922\n",
      "Epoch 24/50\n",
      "31262/31262 [==============================] - 0s 4us/step - loss: 0.3126 - acc: 0.8558 - val_loss: 0.2544 - val_acc: 0.8899\n",
      "Epoch 25/50\n",
      "31262/31262 [==============================] - 0s 4us/step - loss: 0.3130 - acc: 0.8561 - val_loss: 0.2542 - val_acc: 0.8891\n",
      "Epoch 26/50\n",
      "31262/31262 [==============================] - 0s 4us/step - loss: 0.3127 - acc: 0.8567 - val_loss: 0.2548 - val_acc: 0.8876\n",
      "Epoch 27/50\n",
      "31262/31262 [==============================] - 0s 4us/step - loss: 0.3132 - acc: 0.8550 - val_loss: 0.2544 - val_acc: 0.8891\n",
      "Epoch 28/50\n",
      "31262/31262 [==============================] - 0s 4us/step - loss: 0.3119 - acc: 0.8557 - val_loss: 0.2546 - val_acc: 0.8891\n",
      "Epoch 29/50\n",
      "31262/31262 [==============================] - 0s 4us/step - loss: 0.3129 - acc: 0.8564 - val_loss: 0.2538 - val_acc: 0.8907\n",
      "Epoch 30/50\n",
      "31262/31262 [==============================] - 0s 4us/step - loss: 0.3119 - acc: 0.8560 - val_loss: 0.2550 - val_acc: 0.8845\n",
      "Epoch 31/50\n",
      "31262/31262 [==============================] - 0s 4us/step - loss: 0.3107 - acc: 0.8565 - val_loss: 0.2557 - val_acc: 0.8876\n",
      "Epoch 32/50\n",
      "31262/31262 [==============================] - 0s 4us/step - loss: 0.3124 - acc: 0.8562 - val_loss: 0.2542 - val_acc: 0.8891\n",
      "Epoch 33/50\n",
      "31262/31262 [==============================] - 0s 4us/step - loss: 0.3124 - acc: 0.8563 - val_loss: 0.2534 - val_acc: 0.8884\n",
      "Epoch 34/50\n",
      "31262/31262 [==============================] - 0s 4us/step - loss: 0.3124 - acc: 0.8569 - val_loss: 0.2545 - val_acc: 0.8899\n",
      "Epoch 35/50\n",
      "31262/31262 [==============================] - 0s 4us/step - loss: 0.3099 - acc: 0.8560 - val_loss: 0.2539 - val_acc: 0.8891\n",
      "Epoch 36/50\n",
      "31262/31262 [==============================] - 0s 4us/step - loss: 0.3110 - acc: 0.8548 - val_loss: 0.2535 - val_acc: 0.8915\n",
      "Epoch 37/50\n",
      "31262/31262 [==============================] - 0s 4us/step - loss: 0.3106 - acc: 0.8565 - val_loss: 0.2540 - val_acc: 0.8876\n",
      "Epoch 38/50\n",
      "31262/31262 [==============================] - 0s 4us/step - loss: 0.3117 - acc: 0.8566 - val_loss: 0.2533 - val_acc: 0.8899\n",
      "Epoch 39/50\n",
      "31262/31262 [==============================] - 0s 4us/step - loss: 0.3103 - acc: 0.8578 - val_loss: 0.2544 - val_acc: 0.8891\n",
      "Epoch 40/50\n",
      "31262/31262 [==============================] - 0s 4us/step - loss: 0.3096 - acc: 0.8569 - val_loss: 0.2539 - val_acc: 0.8907\n",
      "Epoch 41/50\n",
      "31262/31262 [==============================] - 0s 4us/step - loss: 0.3106 - acc: 0.8568 - val_loss: 0.2553 - val_acc: 0.8907\n",
      "Epoch 42/50\n",
      "31262/31262 [==============================] - 0s 4us/step - loss: 0.3099 - acc: 0.8576 - val_loss: 0.2537 - val_acc: 0.8884\n",
      "Epoch 43/50\n",
      "31262/31262 [==============================] - 0s 4us/step - loss: 0.3099 - acc: 0.8584 - val_loss: 0.2542 - val_acc: 0.8891\n",
      "Epoch 44/50\n",
      "31262/31262 [==============================] - 0s 4us/step - loss: 0.3105 - acc: 0.8584 - val_loss: 0.2541 - val_acc: 0.8907\n",
      "Epoch 45/50\n",
      "31262/31262 [==============================] - 0s 4us/step - loss: 0.3101 - acc: 0.8572 - val_loss: 0.2546 - val_acc: 0.8915\n",
      "Epoch 46/50\n",
      "31262/31262 [==============================] - 0s 4us/step - loss: 0.3088 - acc: 0.8581 - val_loss: 0.2548 - val_acc: 0.8907\n",
      "Epoch 47/50\n",
      "31262/31262 [==============================] - 0s 4us/step - loss: 0.3092 - acc: 0.8588 - val_loss: 0.2544 - val_acc: 0.8915\n",
      "Epoch 48/50\n",
      "31262/31262 [==============================] - 0s 4us/step - loss: 0.3092 - acc: 0.8590 - val_loss: 0.2557 - val_acc: 0.8907\n",
      "Epoch 49/50\n",
      "31262/31262 [==============================] - 0s 4us/step - loss: 0.3103 - acc: 0.8583 - val_loss: 0.2547 - val_acc: 0.8891\n",
      "Epoch 50/50\n",
      "31262/31262 [==============================] - 0s 4us/step - loss: 0.3101 - acc: 0.8586 - val_loss: 0.2547 - val_acc: 0.8899\n"
     ]
    }
   ],
   "source": [
    "xd.reset()\n",
    "_= xd.normalize_numeric()\n",
    "_= xd.convert_categories()\n",
    "\n",
    "df_train, df_test = split_test_set(\n",
    "    xd.df,\n",
    "    \"loan\",\n",
    "    examples_per_class=20,\n",
    "    key_features=[\"gender\", \"ethnicity\", \"age\"],\n",
    "    bins=9)\n",
    "\n",
    "X_train = df_train.drop(xd._target_name, axis=1).copy()\n",
    "y_train = df_train[xd._target_name].astype(int).values.copy()#\n",
    "X_valid = df_test.drop(xd._target_name, axis=1).copy()\n",
    "y_valid = df_test[xd._target_name].astype(int).values.copy()\n",
    "\n",
    "# X = xd.df.drop(xd._target_name, axis=1).copy()\n",
    "# y = xd.df[xd._target_name].astype(int).values.copy()\n",
    "\n",
    "# X_train, X_valid, y_train, y_valid = \\\n",
    "#         train_test_split(X, y, test_size=0.2, random_state=7)\n",
    "\n",
    "X_disp = xd.orig_df.drop(xd._target_name, axis=1).copy()\n",
    "y_disp = xd.orig_df[xd._target_name].copy()\n",
    "X_train_disp, X_valid_disp, y_train_disp, y_valid_disp = \\\n",
    "        train_test_split(X_disp, y_disp, test_size=0.2, random_state=7)\n",
    "\n",
    "model = build_model(X)\n",
    "\n",
    "model.fit(f_in(X_train), y_train, epochs=50,\n",
    "    batch_size=512, shuffle=True, validation_data=(f_in(X_valid), y_valid),\n",
    "    verbose=1, validation_split=0.05)\n",
    "\n",
    "probabilities = model.predict(f_in(X_valid))\n",
    "pred = f_out(probabilities)"
   ]
  },
  {
   "cell_type": "code",
   "execution_count": 145,
   "metadata": {},
   "outputs": [
    {
     "name": "stdout",
     "output_type": "stream",
     "text": [
      "31262/31262 [==============================] - 0s 14us/step\n",
      "Error 0.3043: \n",
      "Accuracy 85.9670: \n"
     ]
    }
   ],
   "source": [
    "score = model.evaluate(f_in(X_train), y_train, verbose=1)\n",
    "\n",
    "print(\"Error %.4f: \" % score[0])\n",
    "print(\"Accuracy %.4f: \" % (score[1]*100))"
   ]
  },
  {
   "cell_type": "code",
   "execution_count": 146,
   "metadata": {},
   "outputs": [
    {
     "data": {
      "text/html": [
       "<div>\n",
       "<style scoped>\n",
       "    .dataframe tbody tr th:only-of-type {\n",
       "        vertical-align: middle;\n",
       "    }\n",
       "\n",
       "    .dataframe tbody tr th {\n",
       "        vertical-align: top;\n",
       "    }\n",
       "\n",
       "    .dataframe thead th {\n",
       "        text-align: right;\n",
       "    }\n",
       "</style>\n",
       "<table border=\"1\" class=\"dataframe\">\n",
       "  <thead>\n",
       "    <tr style=\"text-align: right;\">\n",
       "      <th></th>\n",
       "      <th>Denied</th>\n",
       "      <th>Approved</th>\n",
       "    </tr>\n",
       "  </thead>\n",
       "  <tbody>\n",
       "    <tr>\n",
       "      <th>Denied</th>\n",
       "      <td>0.948148</td>\n",
       "      <td>0.051852</td>\n",
       "    </tr>\n",
       "    <tr>\n",
       "      <th>Approved</th>\n",
       "      <td>0.397260</td>\n",
       "      <td>0.602740</td>\n",
       "    </tr>\n",
       "  </tbody>\n",
       "</table>\n",
       "</div>"
      ],
      "text/plain": [
       "            Denied  Approved\n",
       "Denied    0.948148  0.051852\n",
       "Approved  0.397260  0.602740"
      ]
     },
     "execution_count": 146,
     "metadata": {},
     "output_type": "execute_result"
    },
    {
     "data": {
      "image/png": "[encoded data removed]",
      "text/plain": [
       "<Figure size 432x288 with 2 Axes>"
      ]
     },
     "metadata": {
      "needs_background": "dark"
     },
     "output_type": "display_data"
    }
   ],
   "source": [
    "import seaborn as sn\n",
    "confusion_matrix(y_valid, pred)"
   ]
  },
  {
   "cell_type": "code",
   "execution_count": 147,
   "metadata": {},
   "outputs": [
    {
     "data": {
      "image/png": "[encoded data removed]",
      "text/plain": [
       "<Figure size 432x288 with 1 Axes>"
      ]
     },
     "metadata": {
      "needs_background": "dark"
     },
     "output_type": "display_data"
    },
    {
     "data": {
      "text/plain": [
       "0.7754439370877727"
      ]
     },
     "execution_count": 147,
     "metadata": {},
     "output_type": "execute_result"
    }
   ],
   "source": [
    "plot_roc(y_valid, pred)"
   ]
  },
  {
   "cell_type": "code",
   "execution_count": 148,
   "metadata": {
    "scrolled": true
   },
   "outputs": [
    {
     "data": {
      "image/png": "[encoded data removed]",
      "text/plain": [
       "<Figure size 432x288 with 1 Axes>"
      ]
     },
     "metadata": {
      "needs_background": "dark"
     },
     "output_type": "display_data"
    },
    {
     "name": "stdout",
     "output_type": "stream",
     "text": [
      "Train on 59188 samples, validate on 1299 samples\n",
      "Epoch 1/50\n",
      "59188/59188 [==============================] - 1s 14us/step - loss: 0.5836 - acc: 0.6790 - val_loss: 0.5850 - val_acc: 0.6767\n",
      "Epoch 2/50\n",
      "59188/59188 [==============================] - 0s 4us/step - loss: 0.4239 - acc: 0.8042 - val_loss: 0.4405 - val_acc: 0.7875\n",
      "Epoch 3/50\n",
      "59188/59188 [==============================] - 0s 4us/step - loss: 0.3822 - acc: 0.8223 - val_loss: 0.4321 - val_acc: 0.7937\n",
      "Epoch 4/50\n",
      "59188/59188 [==============================] - 0s 4us/step - loss: 0.3757 - acc: 0.8259 - val_loss: 0.4409 - val_acc: 0.7991\n",
      "Epoch 5/50\n",
      "59188/59188 [==============================] - 0s 4us/step - loss: 0.3733 - acc: 0.8278 - val_loss: 0.4231 - val_acc: 0.8037\n",
      "Epoch 6/50\n",
      "59188/59188 [==============================] - 0s 4us/step - loss: 0.3698 - acc: 0.8301 - val_loss: 0.4228 - val_acc: 0.8006\n",
      "Epoch 7/50\n",
      "59188/59188 [==============================] - 0s 4us/step - loss: 0.3687 - acc: 0.8300 - val_loss: 0.4135 - val_acc: 0.8091\n",
      "Epoch 8/50\n",
      "59188/59188 [==============================] - 0s 4us/step - loss: 0.3661 - acc: 0.8317 - val_loss: 0.3929 - val_acc: 0.8183\n",
      "Epoch 9/50\n",
      "59188/59188 [==============================] - 0s 4us/step - loss: 0.3652 - acc: 0.8326 - val_loss: 0.3896 - val_acc: 0.8160\n",
      "Epoch 10/50\n",
      "59188/59188 [==============================] - 0s 4us/step - loss: 0.3643 - acc: 0.8328 - val_loss: 0.3885 - val_acc: 0.8176\n",
      "Epoch 11/50\n",
      "59188/59188 [==============================] - 0s 4us/step - loss: 0.3632 - acc: 0.8335 - val_loss: 0.3850 - val_acc: 0.8199\n",
      "Epoch 12/50\n",
      "59188/59188 [==============================] - 0s 4us/step - loss: 0.3622 - acc: 0.8352 - val_loss: 0.3717 - val_acc: 0.8245\n",
      "Epoch 13/50\n",
      "59188/59188 [==============================] - 0s 4us/step - loss: 0.3628 - acc: 0.8345 - val_loss: 0.3718 - val_acc: 0.8237\n",
      "Epoch 14/50\n",
      "59188/59188 [==============================] - 0s 4us/step - loss: 0.3616 - acc: 0.8343 - val_loss: 0.3732 - val_acc: 0.8237\n",
      "Epoch 15/50\n",
      "59188/59188 [==============================] - 0s 4us/step - loss: 0.3605 - acc: 0.8356 - val_loss: 0.3632 - val_acc: 0.8260\n",
      "Epoch 16/50\n",
      "59188/59188 [==============================] - 0s 4us/step - loss: 0.3607 - acc: 0.8358 - val_loss: 0.3608 - val_acc: 0.8306\n",
      "Epoch 17/50\n",
      "59188/59188 [==============================] - 0s 4us/step - loss: 0.3597 - acc: 0.8359 - val_loss: 0.3696 - val_acc: 0.8260\n",
      "Epoch 18/50\n",
      "59188/59188 [==============================] - 0s 4us/step - loss: 0.3587 - acc: 0.8367 - val_loss: 0.3783 - val_acc: 0.8199\n",
      "Epoch 19/50\n",
      "59188/59188 [==============================] - 0s 4us/step - loss: 0.3592 - acc: 0.8352 - val_loss: 0.3651 - val_acc: 0.8276\n",
      "Epoch 20/50\n",
      "59188/59188 [==============================] - 0s 4us/step - loss: 0.3594 - acc: 0.8351 - val_loss: 0.3644 - val_acc: 0.8245\n",
      "Epoch 21/50\n",
      "59188/59188 [==============================] - 0s 4us/step - loss: 0.3591 - acc: 0.8356 - val_loss: 0.3579 - val_acc: 0.8306\n",
      "Epoch 22/50\n",
      "59188/59188 [==============================] - 0s 4us/step - loss: 0.3580 - acc: 0.8369 - val_loss: 0.3660 - val_acc: 0.8253\n",
      "Epoch 23/50\n",
      "59188/59188 [==============================] - 0s 4us/step - loss: 0.3590 - acc: 0.8361 - val_loss: 0.3567 - val_acc: 0.8299\n",
      "Epoch 24/50\n",
      "59188/59188 [==============================] - 0s 4us/step - loss: 0.3588 - acc: 0.8352 - val_loss: 0.3700 - val_acc: 0.8268\n",
      "Epoch 25/50\n",
      "59188/59188 [==============================] - 0s 4us/step - loss: 0.3579 - acc: 0.8365 - val_loss: 0.3651 - val_acc: 0.8229\n",
      "Epoch 26/50\n",
      "59188/59188 [==============================] - 0s 4us/step - loss: 0.3575 - acc: 0.8372 - val_loss: 0.3655 - val_acc: 0.8245\n",
      "Epoch 27/50\n",
      "59188/59188 [==============================] - 0s 4us/step - loss: 0.3582 - acc: 0.8366 - val_loss: 0.3651 - val_acc: 0.8260\n",
      "Epoch 28/50\n",
      "59188/59188 [==============================] - 0s 4us/step - loss: 0.3569 - acc: 0.8377 - val_loss: 0.3603 - val_acc: 0.8276\n",
      "Epoch 29/50\n",
      "59188/59188 [==============================] - 0s 4us/step - loss: 0.3572 - acc: 0.8364 - val_loss: 0.3736 - val_acc: 0.8229\n",
      "Epoch 30/50\n",
      "59188/59188 [==============================] - 0s 4us/step - loss: 0.3571 - acc: 0.8371 - val_loss: 0.3671 - val_acc: 0.8260\n",
      "Epoch 31/50\n",
      "59188/59188 [==============================] - 0s 4us/step - loss: 0.3569 - acc: 0.8371 - val_loss: 0.3675 - val_acc: 0.8276\n",
      "Epoch 32/50\n",
      "59188/59188 [==============================] - 0s 4us/step - loss: 0.3561 - acc: 0.8367 - val_loss: 0.3715 - val_acc: 0.8237\n",
      "Epoch 33/50\n",
      "59188/59188 [==============================] - 0s 4us/step - loss: 0.3564 - acc: 0.8359 - val_loss: 0.3681 - val_acc: 0.8260\n",
      "Epoch 34/50\n",
      "59188/59188 [==============================] - 0s 4us/step - loss: 0.3564 - acc: 0.8369 - val_loss: 0.3671 - val_acc: 0.8229\n",
      "Epoch 35/50\n",
      "59188/59188 [==============================] - 0s 4us/step - loss: 0.3559 - acc: 0.8372 - val_loss: 0.3766 - val_acc: 0.8245\n",
      "Epoch 36/50\n",
      "59188/59188 [==============================] - 0s 4us/step - loss: 0.3561 - acc: 0.8372 - val_loss: 0.3702 - val_acc: 0.8268\n",
      "Epoch 37/50\n",
      "59188/59188 [==============================] - 0s 4us/step - loss: 0.3562 - acc: 0.8371 - val_loss: 0.3793 - val_acc: 0.8222\n",
      "Epoch 38/50\n",
      "59188/59188 [==============================] - 0s 4us/step - loss: 0.3561 - acc: 0.8364 - val_loss: 0.3722 - val_acc: 0.8199\n",
      "Epoch 39/50\n",
      "59188/59188 [==============================] - 0s 4us/step - loss: 0.3552 - acc: 0.8371 - val_loss: 0.3706 - val_acc: 0.8245\n",
      "Epoch 40/50\n",
      "59188/59188 [==============================] - 0s 4us/step - loss: 0.3564 - acc: 0.8364 - val_loss: 0.3764 - val_acc: 0.8214\n",
      "Epoch 41/50\n",
      "59188/59188 [==============================] - 0s 4us/step - loss: 0.3561 - acc: 0.8370 - val_loss: 0.3771 - val_acc: 0.8206\n",
      "Epoch 42/50\n",
      "59188/59188 [==============================] - 0s 4us/step - loss: 0.3550 - acc: 0.8378 - val_loss: 0.3695 - val_acc: 0.8237\n",
      "Epoch 43/50\n",
      "59188/59188 [==============================] - 0s 4us/step - loss: 0.3555 - acc: 0.8369 - val_loss: 0.3776 - val_acc: 0.8214\n",
      "Epoch 44/50\n",
      "59188/59188 [==============================] - 0s 4us/step - loss: 0.3556 - acc: 0.8362 - val_loss: 0.3709 - val_acc: 0.8253\n",
      "Epoch 45/50\n",
      "59188/59188 [==============================] - 0s 4us/step - loss: 0.3546 - acc: 0.8372 - val_loss: 0.3742 - val_acc: 0.8206\n",
      "Epoch 46/50\n",
      "59188/59188 [==============================] - 0s 4us/step - loss: 0.3536 - acc: 0.8368 - val_loss: 0.3763 - val_acc: 0.8229\n",
      "Epoch 47/50\n",
      "59188/59188 [==============================] - 0s 4us/step - loss: 0.3547 - acc: 0.8370 - val_loss: 0.3670 - val_acc: 0.8253\n",
      "Epoch 48/50\n",
      "59188/59188 [==============================] - 0s 4us/step - loss: 0.3543 - acc: 0.8364 - val_loss: 0.3684 - val_acc: 0.8260\n",
      "Epoch 49/50\n",
      "59188/59188 [==============================] - 0s 4us/step - loss: 0.3550 - acc: 0.8372 - val_loss: 0.3707 - val_acc: 0.8237\n",
      "Epoch 50/50\n",
      "59188/59188 [==============================] - 0s 4us/step - loss: 0.3546 - acc: 0.8380 - val_loss: 0.3681 - val_acc: 0.8276\n"
     ]
    }
   ],
   "source": [
    "xd.reset()\n",
    "xd.balance(\"gender\", upsample=1)\n",
    "xd.show_imbalance(\"gender\")\n",
    "\n",
    "_= xd.normalize_numeric()\n",
    "_= xd.convert_categories()\n",
    "\n",
    "df_train, df_test = split_test_set(\n",
    "    xd.df,\n",
    "    \"loan\",\n",
    "    examples_per_class=20,\n",
    "    key_features=[\"gender\", \"ethnicity\", \"age\"],\n",
    "    bins=9)\n",
    "\n",
    "X_train = df_train.drop(xd._target_name, axis=1).copy()\n",
    "y_train = df_train[xd._target_name].astype(int).values.copy()#\n",
    "# X_valid = df_test.drop(xd._target_name, axis=1).copy()\n",
    "# y_valid = df_test[xd._target_name].astype(int).values.copy()\n",
    "\n",
    "# X = xd.df.drop(xd._target_name, axis=1).copy()\n",
    "# y = xd.df[xd._target_name].astype(int).values.copy()\n",
    "\n",
    "# X_train, X_valid, y_train, y_valid = \\\n",
    "#         train_test_split(X, y, test_size=0.2, random_state=7)\n",
    "\n",
    "\n",
    "X_disp = xd.orig_df.drop(xd._target_name, axis=1).copy()\n",
    "y_disp = xd.orig_df[xd._target_name].copy()\n",
    "X_train_disp, X_valid_disp, y_train_disp, y_valid_disp = \\\n",
    "        train_test_split(X_disp, y_disp, test_size=0.2, random_state=7)\n",
    "\n",
    "\n",
    "model = build_model(X)\n",
    "\n",
    "model.fit(f_in(X_train), y_train, epochs=50,\n",
    "    batch_size=512, shuffle=True, validation_data=(f_in(X_valid), y_valid),\n",
    "    verbose=1, validation_split=0.05)\n",
    "\n",
    "probabilities = model.predict(f_in(X_valid))\n",
    "pred = f_out(probabilities)"
   ]
  },
  {
   "cell_type": "code",
   "execution_count": 149,
   "metadata": {},
   "outputs": [
    {
     "data": {
      "image/png": "[encoded data removed]",
      "text/plain": [
       "<Figure size 432x288 with 2 Axes>"
      ]
     },
     "metadata": {
      "needs_background": "dark"
     },
     "output_type": "display_data"
    }
   ],
   "source": [
    "_= confusion_matrix(y_valid, pred)"
   ]
  },
  {
   "cell_type": "code",
   "execution_count": 150,
   "metadata": {},
   "outputs": [
    {
     "data": {
      "image/png": "[encoded data removed]",
      "text/plain": [
       "<Figure size 432x288 with 1 Axes>"
      ]
     },
     "metadata": {
      "needs_background": "dark"
     },
     "output_type": "display_data"
    },
    {
     "data": {
      "text/plain": [
       "0.828951040081177"
      ]
     },
     "execution_count": 150,
     "metadata": {},
     "output_type": "execute_result"
    }
   ],
   "source": [
    "plot_roc(y_valid, pred)"
   ]
  },
  {
   "cell_type": "code",
   "execution_count": 151,
   "metadata": {
    "scrolled": true
   },
   "outputs": [
    {
     "data": {
      "image/png": "[encoded data removed]",
      "text/plain": [
       "<Figure size 432x288 with 1 Axes>"
      ]
     },
     "metadata": {
      "needs_background": "dark"
     },
     "output_type": "display_data"
    },
    {
     "data": {
      "text/plain": [
       "(loan  gender\n",
       " 0     0         15128\n",
       "       1         15128\n",
       " 1     0         15128\n",
       "       1         15128\n",
       " Name: gender, dtype: int64, loan  gender\n",
       " 0     0         1.0\n",
       "       1         1.0\n",
       " 1     0         1.0\n",
       "       1         1.0\n",
       " Name: gender, dtype: float64, loan  gender\n",
       " 0     0         False\n",
       "       1         False\n",
       " 1     0         False\n",
       "       1         False\n",
       " Name: gender, dtype: bool)"
      ]
     },
     "execution_count": 151,
     "metadata": {},
     "output_type": "execute_result"
    }
   ],
   "source": [
    "xd.show_imbalance(\"gender\", bins=0)"
   ]
  },
  {
   "cell_type": "code",
   "execution_count": null,
   "metadata": {},
   "outputs": [],
   "source": []
  },
  {
   "cell_type": "code",
   "execution_count": 51,
   "metadata": {
    "scrolled": false
   },
   "outputs": [
    {
     "name": "stderr",
     "output_type": "stream",
     "text": [
      "/home/alejandro/anaconda3/lib/python3.6/site-packages/sklearn/metrics/classification.py:1143: UndefinedMetricWarning: Precision and F-score are ill-defined and being set to 0.0 due to no predicted samples.\n",
      "  'precision', 'predicted', average, warn_for)\n",
      "/home/alejandro/anaconda3/lib/python3.6/site-packages/sklearn/metrics/classification.py:1145: UndefinedMetricWarning: Recall and F-score are ill-defined and being set to 0.0 due to no true samples.\n",
      "  'recall', 'true', average, warn_for)\n",
      "/home/alejandro/anaconda3/lib/python3.6/site-packages/sklearn/metrics/classification.py:1143: UndefinedMetricWarning: Precision and F-score are ill-defined and being set to 0.0 due to no predicted samples.\n",
      "  'precision', 'predicted', average, warn_for)\n",
      "/home/alejandro/anaconda3/lib/python3.6/site-packages/sklearn/metrics/classification.py:1145: UndefinedMetricWarning: Recall and F-score are ill-defined and being set to 0.0 due to no true samples.\n",
      "  'recall', 'true', average, warn_for)\n",
      "/home/alejandro/anaconda3/lib/python3.6/site-packages/sklearn/metrics/classification.py:1143: UndefinedMetricWarning: Precision and F-score are ill-defined and being set to 0.0 due to no predicted samples.\n",
      "  'precision', 'predicted', average, warn_for)\n",
      "/home/alejandro/anaconda3/lib/python3.6/site-packages/sklearn/metrics/classification.py:1143: UndefinedMetricWarning: Precision and F-score are ill-defined and being set to 0.0 due to no predicted samples.\n",
      "  'precision', 'predicted', average, warn_for)\n",
      "/home/alejandro/anaconda3/lib/python3.6/site-packages/sklearn/metrics/classification.py:1143: UndefinedMetricWarning: Precision and F-score are ill-defined and being set to 0.0 due to no predicted samples.\n",
      "  'precision', 'predicted', average, warn_for)\n",
      "/home/alejandro/anaconda3/lib/python3.6/site-packages/sklearn/metrics/classification.py:1143: UndefinedMetricWarning: Precision and F-score are ill-defined and being set to 0.0 due to no predicted samples.\n",
      "  'precision', 'predicted', average, warn_for)\n",
      "/home/alejandro/anaconda3/lib/python3.6/site-packages/sklearn/metrics/classification.py:1143: UndefinedMetricWarning: Precision and F-score are ill-defined and being set to 0.0 due to no predicted samples.\n",
      "  'precision', 'predicted', average, warn_for)\n",
      "/home/alejandro/anaconda3/lib/python3.6/site-packages/sklearn/metrics/classification.py:1145: UndefinedMetricWarning: Recall and F-score are ill-defined and being set to 0.0 due to no true samples.\n",
      "  'recall', 'true', average, warn_for)\n"
     ]
    },
    {
     "data": {
      "image/png": "[encoded data removed]",
      "text/plain": [
       "<Figure size 1440x360 with 1 Axes>"
      ]
     },
     "metadata": {
      "needs_background": "dark"
     },
     "output_type": "display_data"
    },
    {
     "data": {
      "image/png": "[encoded data removed]",
      "text/plain": [
       "<Figure size 1440x360 with 1 Axes>"
      ]
     },
     "metadata": {
      "needs_background": "dark"
     },
     "output_type": "display_data"
    },
    {
     "data": {
      "image/png": "[encoded data removed]",
      "text/plain": [
       "<Figure size 1440x360 with 1 Axes>"
      ]
     },
     "metadata": {
      "needs_background": "dark"
     },
     "output_type": "display_data"
    },
    {
     "data": {
      "image/png": "[encoded data removed]",
      "text/plain": [
       "<Figure size 1440x360 with 1 Axes>"
      ]
     },
     "metadata": {
      "needs_background": "dark"
     },
     "output_type": "display_data"
    }
   ],
   "source": [
    "def group_by_columns(df, all_cols, bins=0):\n",
    "    group_list = []\n",
    "    for c in all_cols:\n",
    "        col = df[c]\n",
    "        if not bins:\n",
    "            grp = c\n",
    "        else:\n",
    "            col_min = col.min()\n",
    "            col_max = col.max()\n",
    "            # TODO: Use the original bins for display purposes as they may come normalised\n",
    "            col_bins = pd.cut(col, list(np.linspace(col_min, col_max, bins)))\n",
    "            grp = col_bins\n",
    "\n",
    "        group_list.append(grp)\n",
    "\n",
    "    grouped = df.groupby(group_list)\n",
    "    return grouped \n",
    "\n",
    "from sklearn.metrics import precision_recall_fscore_support\n",
    "\n",
    "def individual_confusion(x_df, y_valid, y_pred, c, bins=0, average=None):\n",
    "    x_tmp = x_df.copy()\n",
    "    x_tmp[\"target\"] = y_valid\n",
    "    x_tmp[\"predicted\"] = y_pred\n",
    "    if not average:\n",
    "        # TODO: Enable for multiclass multidisplay\n",
    "        average = \"binary\" if len(np.unique(y_valid)) == 2 else \"weighted\"\n",
    "    grouped = group_by_columns(x_tmp, [c], bins) \n",
    "    prfs = []\n",
    "    classes = []\n",
    "    for group, group_df in grouped:\n",
    "        group_valid = group_df[\"target\"]\n",
    "        group_pred = group_df[\"predicted\"]\n",
    "        precision, recall, fscore, _ = \\\n",
    "            precision_recall_fscore_support(group_valid, group_pred, average=average)\n",
    "        prfs.append([precision, recall])\n",
    "        classes.append(str(group))\n",
    "#         prfs.extend([precision,recall, fscore])\n",
    "    \n",
    "    prfs_df = pd.DataFrame(prfs, columns=[\"precision\", \"recall\"], index=classes)\n",
    "    prfs_df.plot.bar(figsize=(20,5))\n",
    "    lp = plt.axhline(0.5, color='r')\n",
    "#     lp = plt.axhline(prfs_df.mean(), color='y')\n",
    "    lp = plt.axhline(1, color='g')\n",
    "#     prfs_df[\"precision\"].plot.bar()\n",
    "#     lp = plt.axhline(0.5, color='r')\n",
    "#     lp = plt.axhline(1, color='g')\n",
    "#     plt.show()\n",
    "#     prfs_df[\"recall\"].plot.bar()\n",
    "#     lp = plt.axhline(0.5, color='r')\n",
    "#     lp = plt.axhline(1, color='g')\n",
    "\n",
    "    \n",
    "#     sns.barplot(list(range(0, len(prfs))),prfs)\n",
    "\n",
    "for c in xd._protected_cols: \n",
    "    num_bins = 0 if c in xd._categorical_cols else 9\n",
    "    individual_confusion(X_valid, y_valid, pred, c, bins=num_bins)"
   ]
  },
  {
   "cell_type": "code",
   "execution_count": null,
   "metadata": {},
   "outputs": [],
   "source": []
  },
  {
   "cell_type": "code",
   "execution_count": null,
   "metadata": {},
   "outputs": [],
   "source": []
  },
  {
   "cell_type": "code",
   "execution_count": null,
   "metadata": {},
   "outputs": [],
   "source": [
    "from sklearn.metrics import classification_report\n",
    "\n",
    "print(classification_report(y_valid, pred))"
   ]
  },
  {
   "cell_type": "code",
   "execution_count": null,
   "metadata": {},
   "outputs": [],
   "source": [
    "sns.barplot([0,1], np.histogram(y_train,bins=2)[0])"
   ]
  },
  {
   "cell_type": "code",
   "execution_count": null,
   "metadata": {},
   "outputs": [],
   "source": [
    "# Initialise XData object with dataframe and target col\n",
    "import xai\n",
    "\n",
    "target = \"loan\"\n",
    "protected = [\"gender\", \"ethnicity\", \"native-country\", \"age\"]\n",
    "\n",
    "df.head()\n",
    "\n",
    "# View class imbalances\n",
    "xai.show_imbalances(df, protected)\n",
    "\n",
    "# View imbalance for specific column\n",
    "xai.show_imbalance(df, \"gender\")\n",
    "\n",
    "# View imbalance for specific column\n",
    "xai.show_imbalance(df, \"gender\")\n",
    "\n",
    "# Balance class that is under threshold\n",
    "b_df = xai.balance(df, \"gender\")\n",
    "\n",
    "# Visualise cross-class imbalance\n",
    "xai.show_imbalance(b_df, \"gender\", cross=[\"loan\"])\n",
    "\n",
    "# Re-balance the original one\n",
    "b_df = xai.balance(df, \"gender\", downsample=0.8, upsample=0.8)\n",
    "\n",
    "# View correlations\n",
    "xai.correlations(b_df)\n",
    "\n",
    "# View all correlations\n",
    "xai.correlations(include_categorical=True)\n",
    "\n",
    "# Process and split test \n",
    "df = xai.normalize_numeric(df)\n",
    "df = xai.convert_categories(df)\n",
    "X_train, y_train, X_test, y_test = \\\n",
    "    xai.balanced_split(\n",
    "        df,\n",
    "        examples_per_class=20,\n",
    "        key_features=[\"gender\", \"ethnicity\", \"age\"],\n",
    "        bins=6)\n",
    "\n",
    "# Lets get some model predictions\n",
    "model.fit(X_train)\n",
    "preds = model.predict(X_test)\n",
    "\n",
    "xai.roc_curve(X_test, y_test, preds)\n",
    "\n",
    "xai.roc_curve(X_test, y_test, preds, \"gender\")\n",
    "\n",
    "xai.precision(X_test, y_test, preds, \"age\")\n",
    "\n",
    "xai.recall(X_test, y_test, preds, \"age\")\n",
    "\n"
   ]
  }
 ],
 "metadata": {
  "kernelspec": {
   "display_name": "Python 3",
   "language": "python",
   "name": "python3"
  },
  "language_info": {
   "codemirror_mode": {
    "name": "ipython",
    "version": 3
   },
   "file_extension": ".py",
   "mimetype": "text/x-python",
   "name": "python",
   "nbconvert_exporter": "python",
   "pygments_lexer": "ipython3",
   "version": "3.6.6"
  }
 },
 "nbformat": 4,
 "nbformat_minor": 2
}
